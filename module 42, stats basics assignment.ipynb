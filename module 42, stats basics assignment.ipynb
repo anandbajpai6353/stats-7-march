{
 "cells": [
  {
   "cell_type": "markdown",
   "id": "64652b9f-9a5b-49a8-8481-6507e17aec2d",
   "metadata": {},
   "source": [
    "Q1. What are the three measures of central tendency?\n",
    "\n"
   ]
  },
  {
   "cell_type": "markdown",
   "id": "5cf034a5-6a89-4553-98b7-aed21d763f7c",
   "metadata": {},
   "source": [
    "A1. The three measures of central tendency are MEAN, MEDIAN and MODE."
   ]
  },
  {
   "cell_type": "raw",
   "id": "cb4422cb-8ec1-42cc-a70d-2cdf07781da6",
   "metadata": {},
   "source": []
  },
  {
   "cell_type": "markdown",
   "id": "41c872d5-338b-47a0-9a47-edb97b98840f",
   "metadata": {},
   "source": [
    "Q2. What is the difference between the mean, median, and mode? How are they used to measure the central tendency of a dataset?"
   ]
  },
  {
   "cell_type": "code",
   "execution_count": 13,
   "id": "8e044067-8591-446c-9755-1181461289a5",
   "metadata": {},
   "outputs": [
    {
     "data": {
      "text/plain": [
       "'A2. \\n1.Mean\\n  #Definition: Arithmetic average.\\n  #Formula: Sum of values / Number of values.\\n  #Use: Sensitive to outliers; good for further statistical analysis.\\n2.Median\\n  #Definition: Middle value when data is ordered.\\n  #Use: Not affected by outliers; useful for skewed distributions.\\n3.Mode\\n  #Definition: Most frequently occurring value.\\n  #Use: Useful for categorical data; shows the most common value.\\n#Differences:\\n  #Mean: Uses all data points, affected by outliers.\\n  #Median: Only the middle value, robust to outliers.\\n  #Mode: Most common value, can have multiple or none.'"
      ]
     },
     "execution_count": 13,
     "metadata": {},
     "output_type": "execute_result"
    }
   ],
   "source": [
    "\"\"\"A2. \n",
    "1.Mean\n",
    "  #Definition: Arithmetic average.\n",
    "  #Formula: Sum of values / Number of values.\n",
    "  #Use: Sensitive to outliers; good for further statistical analysis.\n",
    "2.Median\n",
    "  #Definition: Middle value when data is ordered.\n",
    "  #Use: Not affected by outliers; useful for skewed distributions.\n",
    "3.Mode\n",
    "  #Definition: Most frequently occurring value.\n",
    "  #Use: Useful for categorical data; shows the most common value.\n",
    "#Differences:\n",
    "  #Mean: Uses all data points, affected by outliers.\n",
    "  #Median: Only the middle value, robust to outliers.\n",
    "  #Mode: Most common value, can have multiple or none.\"\"\"\n"
   ]
  },
  {
   "cell_type": "raw",
   "id": "636070ff-1ce3-4efd-aec6-e738ece6e588",
   "metadata": {},
   "source": []
  },
  {
   "cell_type": "markdown",
   "id": "258fd7c1-2eec-4f7c-83dd-f13325154cba",
   "metadata": {},
   "source": [
    "Q3. Measure the three measures of central tendency for the given height data:\n",
    "[178,177,176,177,178.2,178,175,179,180,175,178.9,176.2,177,172.5,178,176.5]"
   ]
  },
  {
   "cell_type": "code",
   "execution_count": 16,
   "id": "3ce1a27b-2151-4233-96da-1615ca123ac3",
   "metadata": {},
   "outputs": [
    {
     "name": "stdout",
     "output_type": "stream",
     "text": [
      "mean is 177.01875\n",
      "median is 177.0\n",
      "mode is 177.0\n"
     ]
    }
   ],
   "source": [
    "#A3\n",
    "import numpy as np\n",
    "from scipy import stats\n",
    "\n",
    "# Given height data\n",
    "heights = [178, 177, 176, 177, 178.2, 178, 175, 179, 180, 175, 178.9, 176.2, 177, 172.5, 178, 176.5]\n",
    "\n",
    "# Calculating mean and median using numpy\n",
    "mean_height = np.mean(heights)\n",
    "median_height = np.median(heights)\n",
    "\n",
    "# Calculating mode using scipy.stats.mode \n",
    "mode_height = stats.mode(heights, keepdims=False).mode\n",
    "\n",
    "mean_height, median_height, mode_height\n",
    "\n",
    "print(\"mean is\", mean_height )\n",
    "print(\"median is\", median_height)\n",
    "print(\"mode is\", mode_height)\n",
    "\n"
   ]
  },
  {
   "cell_type": "raw",
   "id": "6553d556-3b67-4b77-9f63-1f5011e40b50",
   "metadata": {},
   "source": []
  },
  {
   "cell_type": "raw",
   "id": "064989b6-666f-47a7-9be1-61164c3b8cb1",
   "metadata": {},
   "source": []
  },
  {
   "cell_type": "markdown",
   "id": "7e158df4-1480-41ab-95bd-218afec68506",
   "metadata": {},
   "source": [
    "Q4. Find the standard deviation for the given data:\n",
    "[178,177,176,177,178.2,178,175,179,180,175,178.9,176.2,177,172.5,178,176.5]"
   ]
  },
  {
   "cell_type": "code",
   "execution_count": 15,
   "id": "154be5d8-3587-46c5-b6e9-a914ae98b0e5",
   "metadata": {},
   "outputs": [
    {
     "name": "stdout",
     "output_type": "stream",
     "text": [
      "The standard deviation of the given data is: 1.847238930584419\n"
     ]
    }
   ],
   "source": [
    "#A4\n",
    "data = [178, 177, 176, 177, 178.2, 178, 175, 179, 180, 175, 178.9, 176.2, 177, 172.5, 178, 176.5]\n",
    "\n",
    "# Convert the data to a numpy array\n",
    "data_array = np.array(data)\n",
    "\n",
    "# Calculate the standard deviation\n",
    "std_dev = np.std(data_array, ddof=1)  \n",
    "# ddof=1 for sample standard deviation\n",
    "\n",
    "print(\"The standard deviation of the given data is:\", std_dev)\n",
    "\n"
   ]
  },
  {
   "cell_type": "raw",
   "id": "903fffe6-9f89-47b6-96eb-9e8ef8116573",
   "metadata": {},
   "source": []
  },
  {
   "cell_type": "raw",
   "id": "e80a501a-5410-4e08-8609-b1ef20be2250",
   "metadata": {},
   "source": []
  },
  {
   "cell_type": "markdown",
   "id": "41763c50-e498-48f6-84c7-609cbe451691",
   "metadata": {},
   "source": [
    "Q5. How are measures of dispersion such as range, variance, and standard deviation used to describe\n",
    "the spread of a dataset? Provide an example."
   ]
  },
  {
   "cell_type": "markdown",
   "id": "fa137747-93e2-49d7-a8ba-88866f7fca50",
   "metadata": {},
   "source": [
    "A5\n",
    "#Measures of dispersion describe the spread of a dataset:\n",
    "\n",
    "#1. Range: Difference between the highest and lowest values.\n",
    "    Example: For scores \\[85, 90, 78, 92, 88, 76, 95, 89, 77, 91\\], range = 95 - 76 = 19.\n",
    "\n",
    "#2. Variance: Average of the squared differences from the mean.\n",
    "    Example: Mean = 86.1, variance ≈ 41.74.\n",
    "\n",
    "#3. Standard Deviation: Square root of the variance, indicating average deviation from the mean.\n",
    "    Example: Standard deviation ≈ 6.46.\n",
    "\n",
    "These measures provide insights into how spread out the data values are around the central value."
   ]
  },
  {
   "cell_type": "code",
   "execution_count": 17,
   "id": "e52a5c51-e6c5-4cf5-a3d9-d522c6540358",
   "metadata": {},
   "outputs": [
    {
     "name": "stdout",
     "output_type": "stream",
     "text": [
      "Range: 19\n",
      "Variance: 41.690000000000005\n",
      "Standard Deviation: 6.456779382943171\n"
     ]
    }
   ],
   "source": [
    "# Define the dataset\n",
    "data5 = np.array([85, 90, 78, 92, 88, 76, 95, 89, 77, 91])\n",
    "\n",
    "# Calculate the range\n",
    "data_range = np.ptp(data5)  \n",
    "\n",
    "# Calculate the variance\n",
    "variance = np.var(data5)\n",
    "\n",
    "# Calculate the standard deviation\n",
    "std_deviation = np.std(data5)\n",
    "\n",
    "print(\"Range:\", data_range)\n",
    "print(\"Variance:\", variance)\n",
    "print(\"Standard Deviation:\", std_deviation)\n"
   ]
  },
  {
   "cell_type": "raw",
   "id": "cae248f1-136d-4ea9-92bd-06cde5a256a5",
   "metadata": {},
   "source": []
  },
  {
   "cell_type": "raw",
   "id": "83bcd917-49aa-48a4-b4b3-74e537efe1c9",
   "metadata": {},
   "source": []
  },
  {
   "cell_type": "markdown",
   "id": "bc3486ab-1cea-4886-b346-041a2f18090b",
   "metadata": {},
   "source": [
    "Q6. What is a Venn diagram?"
   ]
  },
  {
   "cell_type": "markdown",
   "id": "b63aa7f0-aaf2-4907-89fa-864e92718c2e",
   "metadata": {},
   "source": [
    "A6. A Venn diagram is a graphical representation using overlapping circles to show the relationships between different sets, illustrating their intersections, unions, and differences."
   ]
  },
  {
   "cell_type": "raw",
   "id": "cb2d19b5-e5f4-4806-abb4-7e0e2c219c2f",
   "metadata": {},
   "source": []
  },
  {
   "cell_type": "raw",
   "id": "1141eadb-8029-4205-a28d-67532bac3bbc",
   "metadata": {},
   "source": []
  },
  {
   "cell_type": "markdown",
   "id": "4fffad3e-9e68-4165-b989-d94a0454da2d",
   "metadata": {},
   "source": [
    "Q7. For the two given sets A = (2,3,4,5,6,7) & B = (0,2,6,8,10).\n",
    "Find:\n",
    "(i) A ∩  B\n",
    "(ii) A ∪ B"
   ]
  },
  {
   "cell_type": "code",
   "execution_count": 18,
   "id": "a91759ed-4c47-42d3-84ef-0c4318738c12",
   "metadata": {},
   "outputs": [
    {
     "name": "stdout",
     "output_type": "stream",
     "text": [
      "Intersection of A and B: {2, 6}\n",
      "Union of A and B: {0, 2, 3, 4, 5, 6, 7, 8, 10}\n"
     ]
    }
   ],
   "source": [
    "#A7\n",
    "# Define the sets\n",
    "A = {2, 3, 4, 5, 6, 7}\n",
    "B = {0, 2, 6, 8, 10}\n",
    "\n",
    "# Intersection of sets A and B\n",
    "intersection = A.intersection(B)\n",
    "print(\"Intersection of A and B:\", intersection)\n",
    "\n",
    "# Union of sets A and B\n",
    "union = A.union(B)\n",
    "print(\"Union of A and B:\", union)\n"
   ]
  },
  {
   "cell_type": "raw",
   "id": "5ebbcdcc-f769-450c-a899-11cae6fddfd3",
   "metadata": {},
   "source": []
  },
  {
   "cell_type": "raw",
   "id": "1b31e62b-6734-4da5-8843-5a42b8615e9e",
   "metadata": {},
   "source": []
  },
  {
   "cell_type": "markdown",
   "id": "b0879113-1167-479a-b24f-36bbdb4b5078",
   "metadata": {},
   "source": [
    "Q8. What do you understand about skewness in data?"
   ]
  },
  {
   "cell_type": "markdown",
   "id": "e2a6098e-ed2c-4110-9bfd-2673c2f7582d",
   "metadata": {},
   "source": [
    "A8.\n",
    "Skewness in data refers to the measure of asymmetry of the probability distribution of a real-valued random variable about its mean. In simpler terms, it indicates whether the data is symmetrically distributed or skewed to one side. \n",
    "\n",
    "Positive skewness: The data is skewed to the right, with a tail on the right side of the distribution. This means that the mean is greater than the median.\n",
    "  \n",
    "Negative skewness: The data is skewed to the left, with a tail on the left side of the distribution. Here, the mean is less than the median.\n",
    "\n",
    "Skewness is a crucial statistical measure because it can affect the interpretation of data and the choice of statistical methods. For instance, skewed data may require transformations (like logarithmic or square root transformations) to make it more normally distributed, which is often a prerequisite for many statistical techniques."
   ]
  },
  {
   "cell_type": "raw",
   "id": "83e48d6d-b259-46e4-be18-ef93e0a070ce",
   "metadata": {},
   "source": []
  },
  {
   "cell_type": "raw",
   "id": "818eab63-a72d-4b84-b988-f38699571627",
   "metadata": {},
   "source": []
  },
  {
   "cell_type": "markdown",
   "id": "1f010bbc-a257-45fb-ab2c-d07f36072711",
   "metadata": {},
   "source": [
    "Q9. If a data is right skewed then what will be the position of median with respect to mean?"
   ]
  },
  {
   "cell_type": "markdown",
   "id": "8ed61b0e-2ab4-451e-8c3f-aa0ea37b4bf8",
   "metadata": {},
   "source": [
    "A9. In a right-skewed distribution The mean is greater than the median."
   ]
  },
  {
   "cell_type": "raw",
   "id": "c7a577e1-0118-4a60-8eda-204897eafacf",
   "metadata": {},
   "source": []
  },
  {
   "cell_type": "raw",
   "id": "d2811880-4185-4e93-adc4-aff82d25fd38",
   "metadata": {},
   "source": []
  },
  {
   "cell_type": "markdown",
   "id": "5093a4b9-0fcd-4e6d-b1a7-296ea768f56a",
   "metadata": {},
   "source": [
    "Q10. Explain the difference between covariance and correlation. How are these measures used in\n",
    "statistical analysis?"
   ]
  },
  {
   "cell_type": "markdown",
   "id": "baf1b87e-5f11-45ad-84b8-04ea53ee6acd",
   "metadata": {},
   "source": [
    "A10. \n",
    "\n",
    "Covariance: Measures how two variables change together. It shows the direction of their linear relationship but isn't standardized.\n",
    "\n",
    "Correlation: Standardized measure (-1 to +1) of the linear relationship between two variables. It indicates both the strength and direction of the relationship, making comparisons easier across different pairs of variables."
   ]
  },
  {
   "cell_type": "raw",
   "id": "298b9c3f-462b-44f1-a8a8-2f5fbd38ecb6",
   "metadata": {},
   "source": []
  },
  {
   "cell_type": "raw",
   "id": "839a4c1e-d12b-4910-ade6-3b38270abcf2",
   "metadata": {},
   "source": []
  },
  {
   "cell_type": "markdown",
   "id": "6d1b9983-010a-40d4-850c-c5b99b9bf1e5",
   "metadata": {},
   "source": [
    "Q11. What is the formula for calculating the sample mean? Provide an example calculation for a dataset."
   ]
  },
  {
   "cell_type": "markdown",
   "id": "b45defef-75dc-4409-b557-ad35fe4ce2e5",
   "metadata": {},
   "source": [
    "A11\n",
    "# Calculate Sample Mean\n",
    "\n",
    "Suppose we have a dataset of 5 numbers: \\( 10, 15, 12, 8, 20 \\).\n",
    "\n",
    "1. First, calculate the sum of all the numbers:\n",
    "   \\[ 10 + 15 + 12 + 8 + 20 = 65 \\]\n",
    "\n",
    "2. Next, count the total number of observations (\\(n\\)):\n",
    "   \\[ n = 5\\]\n",
    "\n",
    "3. Now, apply the formula for the sample mean:\n",
    "   \\[ bar{x} = frac{65}{5} = 13 ]\n",
    "\n",
    "Therefore, the sample mean ((bar{x})) for this dataset is 13. This means that on average, the numbers in the dataset are 13.\n",
    "\n",
    "\n"
   ]
  },
  {
   "cell_type": "raw",
   "id": "84da1828-fbd7-42ab-b50b-21e8c4b9ba7b",
   "metadata": {},
   "source": []
  },
  {
   "cell_type": "raw",
   "id": "4933ae47-53fc-40aa-b79a-68955dd95034",
   "metadata": {},
   "source": []
  },
  {
   "cell_type": "markdown",
   "id": "6be5a8d2-bc59-48aa-a430-54f6db3020ee",
   "metadata": {},
   "source": [
    "Q12. For a normal distribution data what is the relationship between its measure of central tendency?"
   ]
  },
  {
   "cell_type": "markdown",
   "id": "598251e7-d16d-422f-b05d-63df21712920",
   "metadata": {},
   "source": [
    "A12. For a normal distribution:\n",
    "- Mean, median, and mode are all equal.\n",
    "- They are located at the center of the distribution, which is symmetric and bell-shaped."
   ]
  },
  {
   "cell_type": "raw",
   "id": "315ff3cd-6929-4e61-bf8b-913959500e26",
   "metadata": {},
   "source": []
  },
  {
   "cell_type": "raw",
   "id": "46015acc-b00d-4cf0-9a5b-eb39964ea1a4",
   "metadata": {},
   "source": []
  },
  {
   "cell_type": "markdown",
   "id": "923db515-e554-4719-ac9c-faadf5ddc166",
   "metadata": {},
   "source": [
    "Q13. How is covariance different from correlation?"
   ]
  },
  {
   "cell_type": "markdown",
   "id": "880860e9-032c-4f88-b329-6e61006015aa",
   "metadata": {},
   "source": [
    "A13. \n",
    "\n",
    "- Covariance: Measures how much two variables vary together. It's not standardized and depends on the units of the variables.\n",
    "  \n",
    "- Correlation: Standardized measure (-1 to +1) that shows both the strength and direction of the linear relationship between variables. It's unitless and scale-invariant."
   ]
  },
  {
   "cell_type": "raw",
   "id": "8edaa255-0c6e-4cb2-9876-63b60e4a1fa8",
   "metadata": {},
   "source": []
  },
  {
   "cell_type": "raw",
   "id": "2b9a5436-9235-4ac4-b6f1-2003e0e5d7c1",
   "metadata": {},
   "source": []
  },
  {
   "cell_type": "markdown",
   "id": "17721677-774b-4d0f-a8f5-71cdaa56f3f3",
   "metadata": {},
   "source": [
    "Q14. How do outliers affect measures of central tendency and dispersion? Provide an example."
   ]
  },
  {
   "cell_type": "markdown",
   "id": "44e5a3d2-0e38-4999-b046-531445a0eda1",
   "metadata": {},
   "source": [
    "A14. Outliers can significantly affect measures of central tendency and dispersion:\n",
    "\n",
    "- Central Tendency: Outliers can skew the mean towards their extreme values. For example, if a dataset of salaries has one extremely high outlier, the mean salary will be higher than typical salaries.\n",
    "\n",
    "- Dispersion: Outliers can increase measures of dispersion such as the range or standard deviation, making the data appear more spread out than it actually is. For instance, in a dataset of test scores, an outlier on the lower end can increase the range of scores.\n",
    "\n",
    "Dealing with outliers is important to accurately represent the majority of the data and prevent misleading conclusions."
   ]
  },
  {
   "cell_type": "code",
   "execution_count": null,
   "id": "0af0037d-0dda-46c5-9f90-9953f21687fa",
   "metadata": {},
   "outputs": [],
   "source": []
  }
 ],
 "metadata": {
  "kernelspec": {
   "display_name": "Python 3 (ipykernel)",
   "language": "python",
   "name": "python3"
  },
  "language_info": {
   "codemirror_mode": {
    "name": "ipython",
    "version": 3
   },
   "file_extension": ".py",
   "mimetype": "text/x-python",
   "name": "python",
   "nbconvert_exporter": "python",
   "pygments_lexer": "ipython3",
   "version": "3.10.8"
  }
 },
 "nbformat": 4,
 "nbformat_minor": 5
}
